{
 "cells": [
  {
   "cell_type": "markdown",
   "metadata": {},
   "source": [
    "# Machine Learning Algorithms - Predict Solutions"
   ]
  },
  {
   "cell_type": "markdown",
   "metadata": {},
   "source": [
    "Complete the following functions using the Machine Learning techniques you have covered in the training notebooks."
   ]
  },
  {
   "cell_type": "markdown",
   "metadata": {},
   "source": [
    "## Pre-processing"
   ]
  },
  {
   "cell_type": "markdown",
   "metadata": {},
   "source": [
    "### Import Data"
   ]
  },
  {
   "cell_type": "code",
   "execution_count": 62,
   "metadata": {},
   "outputs": [],
   "source": [
    "import numpy as np\n",
    "import pandas as pd\n",
    "import matplotlib.pyplot as plt\n",
    "import seaborn as sns\n",
    "% matplotlib inline\n",
    "from sklearn.preprocessing import StandardScaler\n",
    "from sklearn.model_selection import train_test_split\n",
    "from sklearn.linear_model import LinearRegression\n",
    "from sklearn.linear_model import LogisticRegression\n",
    "from sklearn.linear_model import Ridge\n",
    "from sklearn.linear_model import Lasso\n",
    "from sklearn.metrics import mean_squared_error\n",
    "from sklearn.metrics import mean_absolute_error\n",
    "from sklearn.metrics import confusion_matrix\n",
    "from sklearn.metrics import classification_report\n",
    "from sklearn.metrics import precision_recall_fscore_support as score\n",
    "\n",
    "df = pd.read_csv('data.csv').drop('Unnamed: 0', axis=1)"
   ]
  },
  {
   "cell_type": "markdown",
   "metadata": {},
   "source": [
    "### Pre-process Data"
   ]
  },
  {
   "cell_type": "code",
   "execution_count": 63,
   "metadata": {},
   "outputs": [],
   "source": [
    "# Regression labels\n",
    "y_r = df['target_return']\n",
    "\n",
    "# Classification labels\n",
    "y_c = df['target_return'].apply(lambda x: 1 if x > 0 else 0)\n",
    "\n",
    "# Features\n",
    "X = df.drop(['Date', 'company', 'target_return'], axis=1)"
   ]
  },
  {
   "cell_type": "code",
   "execution_count": 64,
   "metadata": {},
   "outputs": [],
   "source": [
    "# Standardize data\n",
    "scaler = StandardScaler()\n",
    "X_scaled = scaler.fit_transform(X)\n",
    "X_standardize = pd.DataFrame(X_scaled,columns=X.columns)"
   ]
  },
  {
   "cell_type": "code",
   "execution_count": 65,
   "metadata": {},
   "outputs": [],
   "source": [
    "# Regression train/test split\n",
    "X_train_r, X_test_r, y_train_r, y_test_r = train_test_split(X_standardize, y_r, test_size=0.3, random_state=101)\n",
    "\n",
    "# Classification train/test split\n",
    "X_train_c, X_test_c, y_train_c, y_test_c = train_test_split(X_standardize, y_c, test_size=0.3, random_state=101)"
   ]
  },
  {
   "cell_type": "markdown",
   "metadata": {},
   "source": [
    "## Function 1"
   ]
  },
  {
   "cell_type": "markdown",
   "metadata": {},
   "source": [
    "Write a function to return the intercept as a float (rounded to the nearest 3 integers) of a linear regression model\n",
    "\n",
    "* Given the training features (X_train) and labels (y_train)"
   ]
  },
  {
   "cell_type": "code",
   "execution_count": 66,
   "metadata": {},
   "outputs": [],
   "source": [
    "def lin_reg_intercept(X_train, y_train):\n",
    "    \n",
    "    \"Returns intercept (float) of linear regression model\"\n",
    "    \n",
    "    # Your code here\n",
    "    lm = LinearRegression()\n",
    "    lm.fit(X_train, y_train)\n",
    "    \n",
    "    return round(lm.intercept_, 3)"
   ]
  },
  {
   "cell_type": "code",
   "execution_count": 67,
   "metadata": {},
   "outputs": [
    {
     "data": {
      "text/plain": [
       "0.027"
      ]
     },
     "execution_count": 67,
     "metadata": {},
     "output_type": "execute_result"
    }
   ],
   "source": [
    "lin_reg_intercept(X_train_r, y_train_r)"
   ]
  },
  {
   "cell_type": "markdown",
   "metadata": {},
   "source": [
    "## Function 2"
   ]
  },
  {
   "cell_type": "markdown",
   "metadata": {},
   "source": [
    "Write a function to return the number of coefficients greater than 0 in a lasso model (as an integer)\n",
    "\n",
    "* Given the training features (X_train) and labels (y_train)\n",
    "* For a specific value of the regularisation parameter (alpha)"
   ]
  },
  {
   "cell_type": "code",
   "execution_count": 68,
   "metadata": {},
   "outputs": [],
   "source": [
    "def lasso_predictors(X_train, y_train, alpha):\n",
    "    \n",
    "    \"Returns number (integer) of coefficients in lasso model that are greater than 0\"\n",
    "    \n",
    "    # Your code here\n",
    "    \n",
    "    # Create instance for the model object\n",
    "    lasso = Lasso(alpha)\n",
    "    \n",
    "    # Fit the models\n",
    "    lasso.fit(X_train, y_train)\n",
    "    \n",
    "    # Compute the coefficience\n",
    "    lasso_coef = lasso.coef_\n",
    "    newList = []\n",
    "    \n",
    "    for i in lasso_coef:\n",
    "        if i > 0:\n",
    "            newList.append(i)\n",
    "            \n",
    "    return len(newList)\n",
    "    "
   ]
  },
  {
   "cell_type": "code",
   "execution_count": 69,
   "metadata": {},
   "outputs": [
    {
     "data": {
      "text/plain": [
       "2"
      ]
     },
     "execution_count": 69,
     "metadata": {},
     "output_type": "execute_result"
    }
   ],
   "source": [
    "lasso_predictors(X_train_r, y_train_r, 0.005)"
   ]
  },
  {
   "cell_type": "markdown",
   "metadata": {},
   "source": [
    "## Function 3"
   ]
  },
  {
   "cell_type": "markdown",
   "metadata": {},
   "source": [
    "Write a function to return the mean squared error as a float (rounded to the nearest 3 integers) of a linear regression model \n",
    "\n",
    "* Given the training features (X_train) training labels (y_train), testing features (X_test) and testing labels (y_test)"
   ]
  },
  {
   "cell_type": "code",
   "execution_count": 70,
   "metadata": {},
   "outputs": [],
   "source": [
    "def lnr_mse(X_train, y_train, X_test, y_test):\n",
    "    \n",
    "    \"Returns the MSE (float) of a linear regression model\"\n",
    "    \n",
    "    \n",
    "    # Your code here\n",
    "    \n",
    "    # Create an instance for the model\n",
    "    lm = LinearRegression()\n",
    "    \n",
    "    # Fit the modles\n",
    "    lm.fit(X_train_r, y_train_r)\n",
    "    \n",
    "    yPred = lm.predict(X_test_r)\n",
    "    mse = mean_squared_error(y_test_r, yPred)\n",
    "    return round(mse, 3)\n",
    "    "
   ]
  },
  {
   "cell_type": "code",
   "execution_count": 71,
   "metadata": {},
   "outputs": [
    {
     "data": {
      "text/plain": [
       "0.032"
      ]
     },
     "execution_count": 71,
     "metadata": {},
     "output_type": "execute_result"
    }
   ],
   "source": [
    "lnr_mse(X_train_r, y_train_r, X_test_r, y_test_r)"
   ]
  },
  {
   "cell_type": "markdown",
   "metadata": {},
   "source": [
    "## Function 4"
   ]
  },
  {
   "cell_type": "markdown",
   "metadata": {},
   "source": [
    "Write a function to return the mean absolute error as a float (rounded to the nearest 3 integers) of a ridge regression model \n",
    "\n",
    "* Given the training features (X_train), training labels (y_train), testing features (X_test) and testing labels (y_test)\n",
    "* For a specific value of the regularisation parameter (alpha)"
   ]
  },
  {
   "cell_type": "code",
   "execution_count": 72,
   "metadata": {},
   "outputs": [],
   "source": [
    "def ridge_mae(X_train, y_train, X_test, y_test, alpha):\n",
    "    \n",
    "    \"Returns the MAE (float) of the ridge regression model\"\n",
    "    \n",
    "    # Your code here\n",
    "    \n",
    "    # Create an instance for the model\n",
    "    ridge = Ridge(alpha)\n",
    "    \n",
    "    # Fit the model\n",
    "    ridge.fit(X_train, y_train)\n",
    "    yPred = ridge.predict(X_test)\n",
    "    \n",
    "    mae = mean_absolute_error(y_test, yPred)\n",
    "    \n",
    "    return round(mae, 3)"
   ]
  },
  {
   "cell_type": "code",
   "execution_count": 73,
   "metadata": {},
   "outputs": [
    {
     "data": {
      "text/plain": [
       "0.096"
      ]
     },
     "execution_count": 73,
     "metadata": {},
     "output_type": "execute_result"
    }
   ],
   "source": [
    "ridge_mae(X_train_r, y_train_r, X_test_r, y_test_r, 1)"
   ]
  },
  {
   "cell_type": "markdown",
   "metadata": {},
   "source": [
    "## Function 5"
   ]
  },
  {
   "cell_type": "markdown",
   "metadata": {},
   "source": [
    "Write a function to return the root mean squared error as a float (rounded to the nearest 3 integers) of a linear regression model\n",
    "\n",
    "* Given the training features (X_train), training labels (y_train), testing features (X_test) and testing labels (y_test)"
   ]
  },
  {
   "cell_type": "code",
   "execution_count": 74,
   "metadata": {},
   "outputs": [],
   "source": [
    "def lnr_rmse(X_train, y_train, X_test, y_test):\n",
    "    \n",
    "    \"Returns the root mean squared error (float) of a linear regression model\"\n",
    "    \n",
    "    # Your code here\n",
    "    \n",
    "    # Create an instance for the model\n",
    "    lm = LinearRegression()\n",
    "    \n",
    "    # Fit the model\n",
    "    lm.fit(X_train_c, y_train_c)\n",
    "    yPred = lm.predict(X_test_c)\n",
    "    \n",
    "    mse = mean_squared_error(y_test_c, yPred)\n",
    "    rmse = np.sqrt(mse)\n",
    "    return round(rmse, 3)"
   ]
  },
  {
   "cell_type": "code",
   "execution_count": 75,
   "metadata": {},
   "outputs": [
    {
     "data": {
      "text/plain": [
       "1.106"
      ]
     },
     "execution_count": 75,
     "metadata": {},
     "output_type": "execute_result"
    }
   ],
   "source": [
    "lnr_rmse(X_train_c, y_train_c, X_test_c, y_test_c)"
   ]
  },
  {
   "cell_type": "markdown",
   "metadata": {},
   "source": [
    "## Function 6"
   ]
  },
  {
   "cell_type": "markdown",
   "metadata": {},
   "source": [
    "Write a function to return the highest coefficient in a logistic regression model as a float (rounded to the nearest 3 integers)\n",
    "\n",
    "* Given the training features (X_train) and labels (y_train)"
   ]
  },
  {
   "cell_type": "code",
   "execution_count": 76,
   "metadata": {},
   "outputs": [],
   "source": [
    "def highest_coef(X_train, y_train):\n",
    "    \n",
    "    \"Returns the highest coefficient in a logistic regression model as a float (rounded to the nearest 3 integers)\"\n",
    "    \n",
    "    # Your code here\n",
    "    \n",
    "    # Create an instace for the model\n",
    "    lm = LogisticRegression()\n",
    "    \n",
    "    # Fit the model\n",
    "    lm.fit(X_train, y_train)\n",
    "    \n",
    "    # Compute coeffience\n",
    "    log_coef = max(lm.coef_)\n",
    "    \n",
    "    return round(max(log_coef), 3)"
   ]
  },
  {
   "cell_type": "code",
   "execution_count": 77,
   "metadata": {},
   "outputs": [
    {
     "name": "stderr",
     "output_type": "stream",
     "text": [
      "C:\\Users\\JF39\\Anaconda3\\lib\\site-packages\\sklearn\\linear_model\\logistic.py:432: FutureWarning: Default solver will be changed to 'lbfgs' in 0.22. Specify a solver to silence this warning.\n",
      "  FutureWarning)\n"
     ]
    },
    {
     "data": {
      "text/plain": [
       "0.977"
      ]
     },
     "execution_count": 77,
     "metadata": {},
     "output_type": "execute_result"
    }
   ],
   "source": [
    "highest_coef(X_train_c, y_train_c)"
   ]
  },
  {
   "cell_type": "markdown",
   "metadata": {},
   "source": [
    "## Function 7"
   ]
  },
  {
   "cell_type": "markdown",
   "metadata": {},
   "source": [
    "Write a function to return the number of true positives (as an integer) of a logistic regression model \n",
    "\n",
    "* Given the training features (X_train), training labels (y_train), testing features (X_test) and testing labels (y_test)"
   ]
  },
  {
   "cell_type": "code",
   "execution_count": 78,
   "metadata": {},
   "outputs": [],
   "source": [
    "def log_reg_tp(X_train, y_train, X_test, y_test):\n",
    "    \n",
    "    \"Returns the number (integer) of true positives for a logistic regression model\"\n",
    "    \n",
    "    # Your code here\n",
    "    \n",
    "    # Create an instance for the model\n",
    "    lm = LogisticRegression()\n",
    "    \n",
    "    # Fit the model\n",
    "    lm.fit(X_train, y_train)\n",
    "    yPred = lm.predict(X_test)\n",
    "    \n",
    "    TP = confusion_matrix(y_test, yPred)\n",
    "    for i in TP:\n",
    "            return TP[0][0]\n",
    "    \n",
    "    "
   ]
  },
  {
   "cell_type": "code",
   "execution_count": 79,
   "metadata": {},
   "outputs": [
    {
     "name": "stderr",
     "output_type": "stream",
     "text": [
      "C:\\Users\\JF39\\Anaconda3\\lib\\site-packages\\sklearn\\linear_model\\logistic.py:432: FutureWarning: Default solver will be changed to 'lbfgs' in 0.22. Specify a solver to silence this warning.\n",
      "  FutureWarning)\n"
     ]
    },
    {
     "data": {
      "text/plain": [
       "16"
      ]
     },
     "execution_count": 79,
     "metadata": {},
     "output_type": "execute_result"
    }
   ],
   "source": [
    "log_reg_tp(X_train_c, y_train_c, X_test_c, y_test_c)"
   ]
  },
  {
   "cell_type": "markdown",
   "metadata": {},
   "source": [
    "## Function 8"
   ]
  },
  {
   "cell_type": "markdown",
   "metadata": {},
   "source": [
    "Write a function to return the precision as a float (rounded to the nearest 3 integers) of a logistic regression model \n",
    "\n",
    "* Given the training features (X_train), training labels (y_train), testing features (X_test) and testing labels (y_test)"
   ]
  },
  {
   "cell_type": "code",
   "execution_count": 88,
   "metadata": {},
   "outputs": [],
   "source": [
    "def lgr_precision(X_train, y_train, X_test, y_test):\n",
    "    \n",
    "    \"Returns the precision (float) for a logistic regression model\"\n",
    "    \n",
    "    # Your code here\n",
    "    \n",
    "    # Create an instance for the model\n",
    "    lm = LogisticRegression()\n",
    "    \n",
    "    # Fit the model\n",
    "    lm.fit(X_train, y_train)\n",
    "    \n",
    "    yPred = lm.predict(X_test)\n",
    "    precision = score(y_test_c, yPred, average='weighted') [0]\n",
    "    \n",
    "    return round(precision, 3)"
   ]
  },
  {
   "cell_type": "code",
   "execution_count": 89,
   "metadata": {},
   "outputs": [
    {
     "name": "stderr",
     "output_type": "stream",
     "text": [
      "C:\\Users\\JF39\\Anaconda3\\lib\\site-packages\\sklearn\\linear_model\\logistic.py:432: FutureWarning: Default solver will be changed to 'lbfgs' in 0.22. Specify a solver to silence this warning.\n",
      "  FutureWarning)\n"
     ]
    },
    {
     "data": {
      "text/plain": [
       "0.608"
      ]
     },
     "execution_count": 89,
     "metadata": {},
     "output_type": "execute_result"
    }
   ],
   "source": [
    "lgr_precision(X_train_c, y_train_c, X_test_c, y_test_c)"
   ]
  },
  {
   "cell_type": "markdown",
   "metadata": {},
   "source": [
    "## Function 9"
   ]
  },
  {
   "cell_type": "markdown",
   "metadata": {},
   "source": [
    "Write a function to return the f1-score as a float (rounded to the nearest 3 integers) of a logistic regression model \n",
    "\n",
    "* Given the training features (X_train), training labels (y_train), testing features (X_test) and testing labels (y_test)"
   ]
  },
  {
   "cell_type": "code",
   "execution_count": 117,
   "metadata": {},
   "outputs": [],
   "source": [
    "def lgr_f1_score(X_train, y_train, X_test, y_test):\n",
    "    \n",
    "    \"Returns the f1-score (float) for the logistic regression model\"\n",
    "     \n",
    "    # Your code here\n",
    "    lm = LogisticRegression()\n",
    "    \n",
    "    lm.fit(X_train, y_train)\n",
    "    \n",
    "    yPred = lm.predict(X_test)\n",
    "    \n",
    "    f1_score = score(y_test,yPred,average='weighted')[2]\n",
    "    \n",
    "    return round(f1_score, 3)"
   ]
  },
  {
   "cell_type": "code",
   "execution_count": 118,
   "metadata": {},
   "outputs": [
    {
     "name": "stderr",
     "output_type": "stream",
     "text": [
      "C:\\Users\\JF39\\Anaconda3\\lib\\site-packages\\sklearn\\linear_model\\logistic.py:432: FutureWarning: Default solver will be changed to 'lbfgs' in 0.22. Specify a solver to silence this warning.\n",
      "  FutureWarning)\n"
     ]
    },
    {
     "data": {
      "text/plain": [
       "0.577"
      ]
     },
     "execution_count": 118,
     "metadata": {},
     "output_type": "execute_result"
    }
   ],
   "source": [
    "lgr_f1_score(X_train_c, y_train_c, X_test_c, y_test_c)"
   ]
  },
  {
   "cell_type": "markdown",
   "metadata": {},
   "source": [
    "## Function 10"
   ]
  },
  {
   "cell_type": "markdown",
   "metadata": {},
   "source": [
    "Write a function to return a specific metric (precision, recall or f1-score) as a float (rounded to the nearest 3 integers) of a logistic regression model \n",
    "\n",
    "* Given the training features (X_train), training labels (y_train), testing features (X_test) and testing labels (y_test)"
   ]
  },
  {
   "cell_type": "code",
   "execution_count": 119,
   "metadata": {},
   "outputs": [],
   "source": [
    "def lgr_metric_output(X_train, y_train, X_test, y_test, metric):\n",
    "    \n",
    "    \"Returns the chosen metric (float) for the logistic regression model\"\n",
    "    \n",
    "    # Your code here\n",
    "    \n",
    "    lm = LogisticRegression()\n",
    "    \n",
    "    lm.fit(X_train, y_train)\n",
    "    \n",
    "    yPred = lm.predict(X_test)\n",
    "    \n",
    "    my_dictionary = {'Precision':0,'Recall':1,'F1_score':2}\n",
    "    \n",
    "    return round(score(y_test,yPred,average='weighted')[my_dictionary[metric]],3)\n",
    "    "
   ]
  },
  {
   "cell_type": "code",
   "execution_count": 120,
   "metadata": {},
   "outputs": [
    {
     "name": "stderr",
     "output_type": "stream",
     "text": [
      "C:\\Users\\JF39\\Anaconda3\\lib\\site-packages\\sklearn\\linear_model\\logistic.py:432: FutureWarning: Default solver will be changed to 'lbfgs' in 0.22. Specify a solver to silence this warning.\n",
      "  FutureWarning)\n"
     ]
    },
    {
     "data": {
      "text/plain": [
       "0.577"
      ]
     },
     "execution_count": 120,
     "metadata": {},
     "output_type": "execute_result"
    }
   ],
   "source": [
    "lgr_metric_output(X_train_c, y_train_c, X_test_c, y_test_c, 'F1_score')"
   ]
  }
 ],
 "metadata": {
  "kernelspec": {
   "display_name": "Python 3",
   "language": "python",
   "name": "python3"
  },
  "language_info": {
   "codemirror_mode": {
    "name": "ipython",
    "version": 3
   },
   "file_extension": ".py",
   "mimetype": "text/x-python",
   "name": "python",
   "nbconvert_exporter": "python",
   "pygments_lexer": "ipython3",
   "version": "3.6.5"
  }
 },
 "nbformat": 4,
 "nbformat_minor": 2
}
